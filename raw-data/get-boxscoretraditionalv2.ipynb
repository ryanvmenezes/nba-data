{
 "cells": [
  {
   "cell_type": "code",
   "execution_count": 1,
   "metadata": {},
   "outputs": [],
   "source": [
    "import os\n",
    "import pandas as pd\n",
    "from time import sleep\n",
    "from tqdm import tqdm"
   ]
  },
  {
   "cell_type": "markdown",
   "metadata": {},
   "source": [
    "Downloads the list of players on the court in a given quarter in a box score.\n",
    "\n",
    "Needed to join with substitutions and account for players on court for every possession."
   ]
  },
  {
   "cell_type": "code",
   "execution_count": 2,
   "metadata": {},
   "outputs": [],
   "source": [
    "from nba_api.stats.endpoints import boxscoretraditionalv2"
   ]
  },
  {
   "cell_type": "code",
   "execution_count": 3,
   "metadata": {},
   "outputs": [],
   "source": [
    "def period_start_time(period):\n",
    "    if period > 5:\n",
    "        return (720 * 4 + (period - 5) * (5 * 60)) * 10\n",
    "    return (720 * (period - 1)) * 10"
   ]
  },
  {
   "cell_type": "code",
   "execution_count": 4,
   "metadata": {},
   "outputs": [],
   "source": [
    "def get_data(y, i, q, overwrite=False):\n",
    "    fpath = f'boxscoretraditionalv2/{y}/{i}_q{q}.csv'\n",
    "    if not os.path.exists(fpath) or overwrite:\n",
    "        req = boxscoretraditionalv2.BoxScoreTraditionalV2(\n",
    "            game_id = i,\n",
    "            start_range = str(period_start_time(q) + 5),\n",
    "            end_range = str(period_start_time(q+1) - 5),\n",
    "            range_type = '2'\n",
    "        )\n",
    "        df = req.player_stats.get_data_frame()\n",
    "        df.to_csv(fpath, index=False)\n",
    "        sleep(0.3)"
   ]
  },
  {
   "cell_type": "code",
   "execution_count": 5,
   "metadata": {},
   "outputs": [
    {
     "name": "stderr",
     "output_type": "stream",
     "text": [
      "100%|██████████| 3950/3950 [00:00<00:00, 95843.46it/s]\n",
      "100%|██████████| 5001/5001 [00:00<00:00, 61270.87it/s]\n",
      "100%|██████████| 4989/4989 [00:00<00:00, 107074.64it/s]\n",
      "100%|██████████| 5000/5000 [00:00<00:00, 86253.92it/s]\n",
      "100%|██████████| 5010/5010 [1:19:28<00:00,  1.05it/s]\n"
     ]
    }
   ],
   "source": [
    "for y in range(2020, 2015, -1):\n",
    "    dest_folder = f'boxscoretraditionalv2/{y}/'\n",
    "    if not os.path.exists(dest_folder):\n",
    "        os.mkdir(dest_folder)\n",
    "    games = pd.read_csv(f'leaguegamelog/{y}.csv', dtype=str)\n",
    "    y_id_q_map = []\n",
    "    for i in games.GAME_ID.unique():\n",
    "        game = pd.read_csv(f'playbyplay/{y}/{i}.csv')\n",
    "        max_q = game.PERIOD.max()\n",
    "        for q in range(1, max_q+1):\n",
    "            y_id_q_map.append((y, i, q))\n",
    "    for y, i, q in tqdm(y_id_q_map):\n",
    "        get_data(y, i, q)"
   ]
  },
  {
   "cell_type": "code",
   "execution_count": null,
   "metadata": {},
   "outputs": [],
   "source": []
  }
 ],
 "metadata": {
  "kernelspec": {
   "display_name": "Python 3",
   "language": "python",
   "name": "python3"
  },
  "language_info": {
   "codemirror_mode": {
    "name": "ipython",
    "version": 3
   },
   "file_extension": ".py",
   "mimetype": "text/x-python",
   "name": "python",
   "nbconvert_exporter": "python",
   "pygments_lexer": "ipython3",
   "version": "3.7.2"
  }
 },
 "nbformat": 4,
 "nbformat_minor": 4
}
