{
 "cells": [
  {
   "cell_type": "code",
   "execution_count": 1,
   "metadata": {},
   "outputs": [],
   "source": [
    "import os\n",
    "import pandas as pd\n",
    "from time import sleep\n",
    "from tqdm import tqdm"
   ]
  },
  {
   "cell_type": "markdown",
   "metadata": {},
   "source": [
    "Gets a play-by-play log for a given game ID"
   ]
  },
  {
   "cell_type": "code",
   "execution_count": 2,
   "metadata": {},
   "outputs": [],
   "source": [
    "from nba_api.stats.endpoints import playbyplayv2"
   ]
  },
  {
   "cell_type": "code",
   "execution_count": 3,
   "metadata": {},
   "outputs": [],
   "source": [
    "def get_data(y, i, overwrite=False):\n",
    "    fpath = f'playbyplayv2/{y}/{i}.csv'\n",
    "    if not os.path.exists(fpath) or overwrite:\n",
    "        req = playbyplayv2.PlayByPlayV2(game_id=i)\n",
    "        df = req.play_by_play.get_data_frame()\n",
    "        df.to_csv(fpath, index=False)\n",
    "        sleep(0.3)"
   ]
  },
  {
   "cell_type": "code",
   "execution_count": 4,
   "metadata": {},
   "outputs": [
    {
     "name": "stderr",
     "output_type": "stream",
     "text": [
      "100%|██████████| 1189/1189 [00:00<00:00, 83476.07it/s]\n",
      "100%|██████████| 1189/1189 [00:00<00:00, 77646.90it/s]\n",
      "100%|██████████| 725/725 [00:00<00:00, 84463.93it/s]\n",
      "100%|██████████| 1189/1189 [00:00<00:00, 73072.14it/s]\n",
      "100%|██████████| 1189/1189 [00:00<00:00, 117907.78it/s]\n",
      "100%|██████████| 1189/1189 [00:00<00:00, 66691.11it/s]\n",
      "100%|██████████| 1189/1189 [00:00<00:00, 64696.85it/s]\n",
      "100%|██████████| 1189/1189 [00:00<00:00, 125475.59it/s]\n",
      "100%|██████████| 1230/1230 [00:00<00:00, 65702.09it/s]\n",
      "100%|██████████| 1230/1230 [00:00<00:00, 70782.66it/s]\n",
      "100%|██████████| 1230/1230 [00:00<00:00, 82329.19it/s]\n",
      "100%|██████████| 1230/1230 [00:00<00:00, 63324.63it/s]\n",
      "100%|██████████| 1230/1230 [00:00<00:00, 88366.17it/s]\n",
      "100%|██████████| 1230/1230 [00:00<00:00, 131785.17it/s]\n",
      "100%|██████████| 1230/1230 [00:00<00:00, 78680.38it/s]\n",
      "100%|██████████| 990/990 [00:00<00:00, 71597.37it/s]\n",
      "100%|██████████| 1230/1230 [00:00<00:00, 56740.25it/s]\n",
      "100%|██████████| 1230/1230 [00:00<00:00, 81411.95it/s]\n",
      "100%|██████████| 1230/1230 [00:00<00:00, 67552.62it/s]\n",
      "100%|██████████| 1230/1230 [00:00<00:00, 89732.56it/s]\n",
      "100%|██████████| 1230/1230 [00:00<00:00, 82919.36it/s]\n",
      "100%|██████████| 1230/1230 [00:00<00:00, 81018.17it/s]\n",
      "100%|██████████| 1230/1230 [00:00<00:00, 73679.91it/s]\n",
      "100%|██████████| 971/971 [00:00<00:00, 76190.17it/s]\n"
     ]
    }
   ],
   "source": [
    "for y in range(1997, 2021):\n",
    "    pbp_folder = f'playbyplayv2/{y}/'\n",
    "    if not os.path.exists(pbp_folder):\n",
    "        os.mkdir(pbp_folder)\n",
    "    games = pd.read_csv(f'leaguegamelog/{y}.csv', dtype=str)\n",
    "    gameids = games.GAME_ID.unique()\n",
    "    for i in tqdm(gameids):\n",
    "        get_data(y, i)"
   ]
  },
  {
   "cell_type": "code",
   "execution_count": null,
   "metadata": {},
   "outputs": [],
   "source": []
  }
 ],
 "metadata": {
  "kernelspec": {
   "display_name": "Python 3",
   "language": "python",
   "name": "python3"
  },
  "language_info": {
   "codemirror_mode": {
    "name": "ipython",
    "version": 3
   },
   "file_extension": ".py",
   "mimetype": "text/x-python",
   "name": "python",
   "nbconvert_exporter": "python",
   "pygments_lexer": "ipython3",
   "version": "3.7.2"
  }
 },
 "nbformat": 4,
 "nbformat_minor": 2
}
