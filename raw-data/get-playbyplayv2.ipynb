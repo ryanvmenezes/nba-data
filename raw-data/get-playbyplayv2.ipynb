{
 "cells": [
  {
   "cell_type": "code",
   "execution_count": 1,
   "metadata": {},
   "outputs": [],
   "source": [
    "import os\n",
    "import pandas as pd\n",
    "from time import sleep\n",
    "from tqdm import tqdm"
   ]
  },
  {
   "cell_type": "markdown",
   "metadata": {},
   "source": [
    "Gets a play-by-play log for a given game ID"
   ]
  },
  {
   "cell_type": "code",
   "execution_count": 2,
   "metadata": {},
   "outputs": [],
   "source": [
    "from nba_api.stats.endpoints import playbyplayv2"
   ]
  },
  {
   "cell_type": "code",
   "execution_count": 3,
   "metadata": {},
   "outputs": [],
   "source": [
    "def get_game(y, i, overwrite=False):\n",
    "    fpath = f'playbyplayv2/{y}/{i}.csv'\n",
    "    if not os.path.exists(fpath) or overwrite:\n",
    "        req = playbyplayv2.PlayByPlayV2(game_id=i)\n",
    "        plays = req.play_by_play.get_data_frame()\n",
    "        plays.to_csv(fpath, index=False)\n",
    "        sleep(0.3)"
   ]
  },
  {
   "cell_type": "code",
   "execution_count": 4,
   "metadata": {},
   "outputs": [
    {
     "name": "stderr",
     "output_type": "stream",
     "text": [
      "100%|██████████| 971/971 [00:00<00:00, 63262.80it/s]\n",
      "100%|██████████| 1230/1230 [00:00<00:00, 84289.02it/s]\n",
      "100%|██████████| 1230/1230 [00:00<00:00, 73558.05it/s]\n",
      "100%|██████████| 1230/1230 [00:00<00:00, 71967.55it/s]\n",
      "100%|██████████| 1230/1230 [00:00<00:00, 58192.46it/s]\n",
      "100%|██████████| 1230/1230 [00:00<00:00, 73990.59it/s]\n",
      "100%|██████████| 1230/1230 [00:00<00:00, 60963.72it/s]\n",
      "100%|██████████| 1230/1230 [00:00<00:00, 69379.55it/s]\n",
      "100%|██████████| 990/990 [00:00<00:00, 85230.83it/s]\n",
      "100%|██████████| 1230/1230 [00:00<00:00, 67016.46it/s]\n",
      "100%|██████████| 1230/1230 [00:00<00:00, 69067.46it/s]\n",
      "100%|██████████| 1230/1230 [00:00<00:00, 84959.47it/s]\n",
      "100%|██████████| 1230/1230 [00:00<00:00, 105671.62it/s]\n",
      "100%|██████████| 1230/1230 [00:00<00:00, 83565.41it/s]\n",
      "100%|██████████| 1230/1230 [00:00<00:00, 79560.08it/s]\n",
      "100%|██████████| 1230/1230 [00:00<00:00, 70404.00it/s]\n",
      "100%|██████████| 1189/1189 [00:00<00:00, 62688.11it/s]\n",
      "100%|██████████| 1189/1189 [00:00<00:00, 49784.64it/s]\n",
      "100%|██████████| 1189/1189 [00:00<00:00, 106868.69it/s]\n",
      "100%|██████████| 1189/1189 [00:00<00:00, 52303.43it/s]\n",
      "100%|██████████| 1189/1189 [00:00<00:00, 81699.64it/s]\n",
      "100%|██████████| 725/725 [00:00<00:00, 57138.81it/s]\n",
      "100%|██████████| 1189/1189 [00:00<00:00, 70680.83it/s]\n",
      "100%|██████████| 1189/1189 [00:00<00:00, 97648.91it/s]\n"
     ]
    }
   ],
   "source": [
    "for y in range(2020, 1996, -1):\n",
    "    pbp_folder = f'playbyplayv2/{y}/'\n",
    "    if not os.path.exists(pbp_folder):\n",
    "        os.mkdir(pbp_folder)\n",
    "    games = pd.read_csv(f'leaguegamelog/log-{y}.csv', dtype=str)\n",
    "    gameids = games.GAME_ID.unique()\n",
    "    for i in tqdm(gameids):\n",
    "        get_game(y, i)"
   ]
  },
  {
   "cell_type": "code",
   "execution_count": null,
   "metadata": {},
   "outputs": [],
   "source": []
  }
 ],
 "metadata": {
  "kernelspec": {
   "display_name": "Python 3",
   "language": "python",
   "name": "python3"
  },
  "language_info": {
   "codemirror_mode": {
    "name": "ipython",
    "version": 3
   },
   "file_extension": ".py",
   "mimetype": "text/x-python",
   "name": "python",
   "nbconvert_exporter": "python",
   "pygments_lexer": "ipython3",
   "version": "3.7.2"
  }
 },
 "nbformat": 4,
 "nbformat_minor": 2
}
