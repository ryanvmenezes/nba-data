{
 "cells": [
  {
   "cell_type": "code",
   "execution_count": 1,
   "metadata": {},
   "outputs": [],
   "source": [
    "import os\n",
    "import pandas as pd\n",
    "from time import sleep\n",
    "from tqdm import tqdm"
   ]
  },
  {
   "cell_type": "markdown",
   "metadata": {},
   "source": [
    "Gets a play-by-play log for a given game ID"
   ]
  },
  {
   "cell_type": "code",
   "execution_count": 2,
   "metadata": {},
   "outputs": [],
   "source": [
    "from nba_api.stats.endpoints import playbyplay"
   ]
  },
  {
   "cell_type": "code",
   "execution_count": 3,
   "metadata": {},
   "outputs": [],
   "source": [
    "def get_data(y, i, overwrite=False):\n",
    "    fpath = f'playbyplay/{y}/{i}.csv'\n",
    "    if not os.path.exists(fpath) or overwrite:\n",
    "        req = playbyplay.PlayByPlay(game_id=i)\n",
    "        df = req.play_by_play.get_data_frame()\n",
    "        df.to_csv(fpath, index=False)\n",
    "        sleep(0.3)"
   ]
  },
  {
   "cell_type": "code",
   "execution_count": 4,
   "metadata": {},
   "outputs": [
    {
     "name": "stderr",
     "output_type": "stream",
     "text": [
      "100%|██████████| 1189/1189 [00:00<00:00, 87680.92it/s]\n",
      "100%|██████████| 1189/1189 [00:00<00:00, 71594.06it/s]\n",
      "100%|██████████| 725/725 [00:00<00:00, 65030.05it/s]\n",
      "100%|██████████| 1189/1189 [00:00<00:00, 106505.80it/s]\n",
      "100%|██████████| 1189/1189 [00:00<00:00, 78660.98it/s]\n",
      "100%|██████████| 1189/1189 [00:00<00:00, 83319.87it/s]\n",
      "100%|██████████| 1189/1189 [00:00<00:00, 92441.38it/s]\n",
      "100%|██████████| 1189/1189 [00:00<00:00, 84829.26it/s]\n",
      "100%|██████████| 1230/1230 [00:00<00:00, 84847.69it/s]\n",
      "100%|██████████| 1230/1230 [00:00<00:00, 80736.69it/s]\n",
      "100%|██████████| 1230/1230 [00:00<00:00, 49758.81it/s]\n",
      "100%|██████████| 1230/1230 [00:00<00:00, 60127.43it/s]\n",
      "100%|██████████| 1230/1230 [00:00<00:00, 54721.66it/s]\n",
      "100%|██████████| 1230/1230 [00:00<00:00, 93619.46it/s]\n",
      "100%|██████████| 1230/1230 [00:00<00:00, 70356.95it/s]\n",
      "100%|██████████| 990/990 [00:00<00:00, 76251.67it/s]\n",
      "100%|██████████| 1230/1230 [00:00<00:00, 75615.14it/s]\n",
      "100%|██████████| 1230/1230 [00:00<00:00, 107838.50it/s]\n",
      "100%|██████████| 1230/1230 [00:00<00:00, 101423.23it/s]\n",
      "100%|██████████| 1230/1230 [00:00<00:00, 58442.96it/s]\n",
      "100%|██████████| 1230/1230 [00:00<00:00, 84676.39it/s]\n",
      "100%|██████████| 1230/1230 [00:00<00:00, 129470.07it/s]\n",
      "100%|██████████| 1230/1230 [00:00<00:00, 61976.60it/s]\n",
      "100%|██████████| 971/971 [00:00<00:00, 69247.77it/s]\n"
     ]
    }
   ],
   "source": [
    "for y in range(1997, 2021):\n",
    "    pbp_folder = f'playbyplay/{y}/'\n",
    "    if not os.path.exists(pbp_folder):\n",
    "        os.mkdir(pbp_folder)\n",
    "    games = pd.read_csv(f'leaguegamelog/{y}.csv', dtype=str)\n",
    "    gameids = games.GAME_ID.unique()\n",
    "    for i in tqdm(gameids):\n",
    "        get_data(y, i)"
   ]
  },
  {
   "cell_type": "code",
   "execution_count": null,
   "metadata": {},
   "outputs": [],
   "source": []
  }
 ],
 "metadata": {
  "kernelspec": {
   "display_name": "Python 3",
   "language": "python",
   "name": "python3"
  },
  "language_info": {
   "codemirror_mode": {
    "name": "ipython",
    "version": 3
   },
   "file_extension": ".py",
   "mimetype": "text/x-python",
   "name": "python",
   "nbconvert_exporter": "python",
   "pygments_lexer": "ipython3",
   "version": "3.7.2"
  }
 },
 "nbformat": 4,
 "nbformat_minor": 2
}
