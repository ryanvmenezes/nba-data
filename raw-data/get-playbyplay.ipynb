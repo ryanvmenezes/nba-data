{
 "cells": [
  {
   "cell_type": "code",
   "execution_count": 1,
   "metadata": {},
   "outputs": [],
   "source": [
    "import os\n",
    "import pandas as pd\n",
    "from time import sleep\n",
    "from tqdm import tqdm"
   ]
  },
  {
   "cell_type": "markdown",
   "metadata": {},
   "source": [
    "Gets a play-by-play log for a given game ID"
   ]
  },
  {
   "cell_type": "code",
   "execution_count": 2,
   "metadata": {},
   "outputs": [],
   "source": [
    "from nba_api.stats.endpoints import playbyplay"
   ]
  },
  {
   "cell_type": "code",
   "execution_count": 3,
   "metadata": {},
   "outputs": [],
   "source": [
    "def get_game(y, i, overwrite=False):\n",
    "    fpath = f'playbyplay/{y}/{i}.csv'\n",
    "    if not os.path.exists(fpath) or overwrite:\n",
    "        req = playbyplay.PlayByPlay(game_id=i)\n",
    "        plays = req.play_by_play.get_data_frame()\n",
    "        plays.to_csv(fpath, index=False)\n",
    "        sleep(0.3)"
   ]
  },
  {
   "cell_type": "code",
   "execution_count": 4,
   "metadata": {},
   "outputs": [
    {
     "name": "stderr",
     "output_type": "stream",
     "text": [
      "100%|██████████| 1189/1189 [00:00<00:00, 75559.88it/s]\n",
      "100%|██████████| 1189/1189 [00:00<00:00, 71805.38it/s]\n",
      "100%|██████████| 725/725 [00:00<00:00, 68755.97it/s]\n",
      "100%|██████████| 1189/1189 [00:00<00:00, 84152.20it/s]\n",
      "100%|██████████| 1189/1189 [00:00<00:00, 84250.29it/s]\n",
      "100%|██████████| 1189/1189 [00:00<00:00, 82449.29it/s]\n",
      "100%|██████████| 1189/1189 [00:00<00:00, 81563.34it/s]\n",
      "100%|██████████| 1189/1189 [00:00<00:00, 140630.18it/s]\n",
      "100%|██████████| 1230/1230 [00:00<00:00, 71669.62it/s]\n",
      "100%|██████████| 1230/1230 [00:00<00:00, 79969.52it/s]\n",
      "100%|██████████| 1230/1230 [00:00<00:00, 97501.40it/s]\n",
      "100%|██████████| 1230/1230 [00:00<00:00, 111319.56it/s]\n",
      "100%|██████████| 1230/1230 [00:00<00:00, 71536.45it/s]\n",
      "100%|██████████| 1230/1230 [00:00<00:00, 82603.38it/s]\n",
      "100%|██████████| 1230/1230 [00:00<00:00, 111512.06it/s]\n",
      "100%|██████████| 990/990 [00:00<00:00, 93900.20it/s]\n",
      "100%|██████████| 1230/1230 [00:00<00:00, 90968.29it/s]\n",
      "100%|██████████| 1230/1230 [00:00<00:00, 79531.87it/s]\n",
      "100%|██████████| 1230/1230 [00:00<00:00, 70263.05it/s]\n",
      "100%|██████████| 1230/1230 [00:00<00:00, 45087.82it/s]\n",
      "100%|██████████| 1230/1230 [00:00<00:00, 67661.60it/s]\n",
      "100%|██████████| 1230/1230 [00:00<00:00, 95675.12it/s]\n",
      "100%|██████████| 1230/1230 [00:00<00:00, 94670.86it/s]\n",
      "100%|██████████| 971/971 [12:45<00:00,  1.27it/s]\n"
     ]
    }
   ],
   "source": [
    "for y in range(1997, 2021):\n",
    "    pbp_folder = f'playbyplay/{y}/'\n",
    "    if not os.path.exists(pbp_folder):\n",
    "        os.mkdir(pbp_folder)\n",
    "    games = pd.read_csv(f'leaguegamelog/log-{y}.csv', dtype=str)\n",
    "    gameids = games.GAME_ID.unique()\n",
    "    for i in tqdm(gameids):\n",
    "        get_game(y, i)"
   ]
  },
  {
   "cell_type": "code",
   "execution_count": null,
   "metadata": {},
   "outputs": [],
   "source": []
  }
 ],
 "metadata": {
  "kernelspec": {
   "display_name": "Python 3",
   "language": "python",
   "name": "python3"
  },
  "language_info": {
   "codemirror_mode": {
    "name": "ipython",
    "version": 3
   },
   "file_extension": ".py",
   "mimetype": "text/x-python",
   "name": "python",
   "nbconvert_exporter": "python",
   "pygments_lexer": "ipython3",
   "version": "3.7.2"
  }
 },
 "nbformat": 4,
 "nbformat_minor": 2
}
