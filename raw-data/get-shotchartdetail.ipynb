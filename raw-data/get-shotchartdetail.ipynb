{
 "cells": [
  {
   "cell_type": "code",
   "execution_count": 1,
   "metadata": {},
   "outputs": [],
   "source": [
    "import os\n",
    "from time import sleep\n",
    "from tqdm import tqdm"
   ]
  },
  {
   "cell_type": "markdown",
   "metadata": {},
   "source": [
    "Gets a coordinates of all regular-season shots for a season"
   ]
  },
  {
   "cell_type": "code",
   "execution_count": 2,
   "metadata": {},
   "outputs": [],
   "source": [
    "from nba_api.stats.endpoints import shotchartdetail"
   ]
  },
  {
   "cell_type": "code",
   "execution_count": 3,
   "metadata": {},
   "outputs": [],
   "source": [
    "def get_data(year, overwrite=False):\n",
    "    season = f'{year-1}-{str(year)[2:]}'\n",
    "    fpath = f'shotchartdetail/{year}.csv'\n",
    "    if not os.path.exists(fpath) or overwrite:\n",
    "        req = shotchartdetail.ShotChartDetail(\n",
    "            player_id=0,\n",
    "            team_id=0,\n",
    "            context_measure_simple='FGA',\n",
    "            last_n_games='0',\n",
    "            season_nullable=season,\n",
    "            period='0',\n",
    "        )\n",
    "        df = req.shot_chart_detail.get_data_frame()\n",
    "        df.to_csv(fpath, index=False)\n",
    "        sleep(0.5)"
   ]
  },
  {
   "cell_type": "code",
   "execution_count": 4,
   "metadata": {},
   "outputs": [
    {
     "name": "stderr",
     "output_type": "stream",
     "text": [
      "100%|██████████| 4/4 [04:59<00:00, 74.89s/it]\n"
     ]
    }
   ],
   "source": [
    "for y in tqdm(range(2020, 2016, -1)):\n",
    "    get_data(y)"
   ]
  },
  {
   "cell_type": "code",
   "execution_count": 5,
   "metadata": {},
   "outputs": [],
   "source": [
    "# get_data(2020, overwrite=True)"
   ]
  }
 ],
 "metadata": {
  "kernelspec": {
   "display_name": "Python 3",
   "language": "python",
   "name": "python3"
  },
  "language_info": {
   "codemirror_mode": {
    "name": "ipython",
    "version": 3
   },
   "file_extension": ".py",
   "mimetype": "text/x-python",
   "name": "python",
   "nbconvert_exporter": "python",
   "pygments_lexer": "ipython3",
   "version": "3.7.2"
  }
 },
 "nbformat": 4,
 "nbformat_minor": 2
}
