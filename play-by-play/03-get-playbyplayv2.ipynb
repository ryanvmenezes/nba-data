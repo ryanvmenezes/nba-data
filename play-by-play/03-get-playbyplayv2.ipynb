{
 "cells": [
  {
   "cell_type": "code",
   "execution_count": 1,
   "metadata": {},
   "outputs": [],
   "source": [
    "import os\n",
    "import pandas as pd\n",
    "from time import sleep\n",
    "from tqdm import tqdm"
   ]
  },
  {
   "cell_type": "markdown",
   "metadata": {},
   "source": [
    "Gets a play-by-play log for a given game ID"
   ]
  },
  {
   "cell_type": "code",
   "execution_count": 2,
   "metadata": {},
   "outputs": [],
   "source": [
    "from nba_api.stats.endpoints import playbyplay"
   ]
  },
  {
   "cell_type": "code",
   "execution_count": 3,
   "metadata": {},
   "outputs": [],
   "source": [
    "def get_game(y, i, overwrite=False):\n",
    "    fpath = f'playbyplay/{y}/{i}.csv'\n",
    "    if not os.path.exists(fpath) or overwrite:\n",
    "        req = playbyplay.PlayByPlay(game_id=i)\n",
    "        plays = req.play_by_play.get_data_frame()\n",
    "        plays.to_csv(fpath, index=False)\n",
    "        sleep(0.3)"
   ]
  },
  {
   "cell_type": "code",
   "execution_count": 4,
   "metadata": {},
   "outputs": [
    {
     "name": "stderr",
     "output_type": "stream",
     "text": [
      "100%|██████████| 1189/1189 [00:00<00:00, 87519.35it/s]\n",
      "100%|██████████| 1189/1189 [00:00<00:00, 83089.43it/s]\n",
      "100%|██████████| 725/725 [00:00<00:00, 83229.43it/s]\n",
      "100%|██████████| 1189/1189 [00:00<00:00, 94039.85it/s]\n",
      "100%|██████████| 1189/1189 [00:00<00:00, 92650.90it/s]\n",
      "100%|██████████| 1189/1189 [00:00<00:00, 83382.56it/s]\n",
      "100%|██████████| 1189/1189 [00:00<00:00, 94513.93it/s]\n",
      "100%|██████████| 1189/1189 [00:00<00:00, 107268.66it/s]\n",
      "100%|██████████| 1230/1230 [00:00<00:00, 101010.18it/s]\n",
      "100%|██████████| 1230/1230 [00:00<00:00, 89052.58it/s]\n",
      "100%|██████████| 1230/1230 [00:00<00:00, 84896.56it/s]\n",
      "100%|██████████| 1230/1230 [00:00<00:00, 81625.78it/s]\n",
      "100%|██████████| 1230/1230 [00:00<00:00, 101591.00it/s]\n",
      "100%|██████████| 1230/1230 [00:00<00:00, 81064.00it/s]\n",
      "100%|██████████| 1230/1230 [00:00<00:00, 134215.98it/s]\n",
      "100%|██████████| 990/990 [00:00<00:00, 66889.41it/s]\n",
      "100%|██████████| 1230/1230 [00:00<00:00, 66064.72it/s]\n",
      "100%|██████████| 1230/1230 [00:00<00:00, 93504.08it/s]\n",
      "100%|██████████| 1230/1230 [00:00<00:00, 86239.07it/s]\n",
      "100%|██████████| 1230/1230 [00:00<00:00, 96708.17it/s]\n",
      "100%|██████████| 1230/1230 [00:00<00:00, 72476.10it/s]\n",
      "100%|██████████| 1230/1230 [00:00<00:00, 92458.40it/s]\n",
      "100%|██████████| 1230/1230 [00:48<00:00,  1.34it/s]  \n"
     ]
    }
   ],
   "source": [
    "for y in range(1997, 2020):\n",
    "    pbp_folder = f'playbyplay/{y}/'\n",
    "    if not os.path.exists(pbp_folder):\n",
    "        os.mkdir(pbp_folder)\n",
    "    games = pd.read_csv(f'logs/log-{y}.csv', dtype=str)\n",
    "    gameids = games.GAME_ID.unique()\n",
    "    for i in tqdm(gameids):\n",
    "        get_game(y, i)"
   ]
  },
  {
   "cell_type": "code",
   "execution_count": null,
   "metadata": {},
   "outputs": [],
   "source": []
  }
 ],
 "metadata": {
  "kernelspec": {
   "display_name": "Python 3",
   "language": "python",
   "name": "python3"
  },
  "language_info": {
   "codemirror_mode": {
    "name": "ipython",
    "version": 3
   },
   "file_extension": ".py",
   "mimetype": "text/x-python",
   "name": "python",
   "nbconvert_exporter": "python",
   "pygments_lexer": "ipython3",
   "version": "3.7.2"
  }
 },
 "nbformat": 4,
 "nbformat_minor": 2
}
