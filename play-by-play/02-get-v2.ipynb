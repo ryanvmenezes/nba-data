{
 "cells": [
  {
   "cell_type": "code",
   "execution_count": 1,
   "metadata": {},
   "outputs": [],
   "source": [
    "import os\n",
    "import pandas as pd\n",
    "from time import sleep\n",
    "from tqdm import tqdm"
   ]
  },
  {
   "cell_type": "markdown",
   "metadata": {},
   "source": [
    "Gets a play-by-play log for a given game ID"
   ]
  },
  {
   "cell_type": "code",
   "execution_count": 2,
   "metadata": {},
   "outputs": [],
   "source": [
    "from nba_api.stats.endpoints import playbyplayv2"
   ]
  },
  {
   "cell_type": "code",
   "execution_count": 3,
   "metadata": {},
   "outputs": [],
   "source": [
    "def get_game(y, i, overwrite=False):\n",
    "    fpath = f'playbyplayv2/{y}/{i}.csv'\n",
    "    if not os.path.exists(fpath) or overwrite:\n",
    "        req = playbyplayv2.PlayByPlayV2(game_id=i)\n",
    "        plays = req.play_by_play.get_data_frame()\n",
    "        plays.to_csv(fpath, index=False)\n",
    "        sleep(0.3)"
   ]
  },
  {
   "cell_type": "code",
   "execution_count": 4,
   "metadata": {},
   "outputs": [
    {
     "name": "stderr",
     "output_type": "stream",
     "text": [
      "100%|██████████| 971/971 [00:00<00:00, 82184.83it/s]\n",
      "100%|██████████| 1230/1230 [00:00<00:00, 114303.94it/s]\n",
      "100%|██████████| 1230/1230 [00:00<00:00, 125115.05it/s]\n",
      "100%|██████████| 1230/1230 [00:00<00:00, 88201.50it/s]\n",
      "100%|██████████| 1230/1230 [07:57<00:00,  2.58it/s]\n",
      "100%|██████████| 1230/1230 [24:52<00:00,  1.21s/it] \n",
      "100%|██████████| 1230/1230 [17:10<00:00,  1.19it/s]\n",
      "100%|██████████| 1230/1230 [17:01<00:00,  1.20it/s]\n",
      "100%|██████████| 990/990 [13:59<00:00,  1.18it/s]\n",
      "100%|██████████| 1230/1230 [16:49<00:00,  1.22it/s]\n",
      "100%|██████████| 1230/1230 [16:45<00:00,  1.22it/s]\n",
      "100%|██████████| 1230/1230 [17:53<00:00,  1.15it/s]\n",
      "100%|██████████| 1230/1230 [17:08<00:00,  1.20it/s]\n",
      "100%|██████████| 1230/1230 [16:42<00:00,  1.23it/s]\n",
      "100%|██████████| 1230/1230 [17:01<00:00,  1.20it/s]\n",
      "100%|██████████| 1230/1230 [16:42<00:00,  1.23it/s]\n",
      "100%|██████████| 1189/1189 [16:14<00:00,  1.22it/s]\n",
      "100%|██████████| 1189/1189 [16:30<00:00,  1.20it/s]\n",
      "100%|██████████| 1189/1189 [16:24<00:00,  1.21it/s]\n",
      "100%|██████████| 1189/1189 [16:17<00:00,  1.22it/s]\n",
      "100%|██████████| 1189/1189 [15:53<00:00,  1.25it/s]\n",
      "100%|██████████| 725/725 [09:44<00:00,  1.24it/s]\n",
      "100%|██████████| 1189/1189 [16:10<00:00,  1.23it/s]\n",
      "100%|██████████| 1189/1189 [15:57<00:00,  1.24it/s]\n"
     ]
    }
   ],
   "source": [
    "for y in range(2020, 1996, -1):\n",
    "    pbp_folder = f'playbyplayv2/{y}/'\n",
    "    if not os.path.exists(pbp_folder):\n",
    "        os.mkdir(pbp_folder)\n",
    "    games = pd.read_csv(f'../game-logs/leaguegamelog/log-{y}.csv', dtype=str)\n",
    "    gameids = games.GAME_ID.unique()\n",
    "    for i in tqdm(gameids):\n",
    "        get_game(y, i)"
   ]
  },
  {
   "cell_type": "code",
   "execution_count": null,
   "metadata": {},
   "outputs": [],
   "source": []
  }
 ],
 "metadata": {
  "kernelspec": {
   "display_name": "Python 3",
   "language": "python",
   "name": "python3"
  },
  "language_info": {
   "codemirror_mode": {
    "name": "ipython",
    "version": 3
   },
   "file_extension": ".py",
   "mimetype": "text/x-python",
   "name": "python",
   "nbconvert_exporter": "python",
   "pygments_lexer": "ipython3",
   "version": "3.7.2"
  }
 },
 "nbformat": 4,
 "nbformat_minor": 2
}
