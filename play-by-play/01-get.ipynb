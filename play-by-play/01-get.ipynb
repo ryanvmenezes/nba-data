{
 "cells": [
  {
   "cell_type": "code",
   "execution_count": 1,
   "metadata": {},
   "outputs": [],
   "source": [
    "import os\n",
    "import pandas as pd\n",
    "from time import sleep\n",
    "from tqdm import tqdm"
   ]
  },
  {
   "cell_type": "markdown",
   "metadata": {},
   "source": [
    "Gets a play-by-play log for a given game ID"
   ]
  },
  {
   "cell_type": "code",
   "execution_count": 2,
   "metadata": {},
   "outputs": [],
   "source": [
    "from nba_api.stats.endpoints import playbyplay"
   ]
  },
  {
   "cell_type": "code",
   "execution_count": 3,
   "metadata": {},
   "outputs": [],
   "source": [
    "def get_game(y, i, overwrite=False):\n",
    "    fpath = f'playbyplay/{y}/{i}.csv'\n",
    "    if not os.path.exists(fpath) or overwrite:\n",
    "        req = playbyplay.PlayByPlay(game_id=i)\n",
    "        plays = req.play_by_play.get_data_frame()\n",
    "        plays.to_csv(fpath, index=False)\n",
    "        sleep(0.3)"
   ]
  },
  {
   "cell_type": "code",
   "execution_count": 5,
   "metadata": {},
   "outputs": [
    {
     "name": "stderr",
     "output_type": "stream",
     "text": [
      "100%|██████████| 1189/1189 [00:00<00:00, 89419.72it/s]\n",
      "100%|██████████| 1189/1189 [00:00<00:00, 83258.66it/s]\n",
      "100%|██████████| 725/725 [00:00<00:00, 57903.69it/s]\n",
      "100%|██████████| 1189/1189 [00:00<00:00, 106912.22it/s]\n",
      "100%|██████████| 1189/1189 [00:00<00:00, 91345.86it/s]\n",
      "100%|██████████| 1189/1189 [00:00<00:00, 94397.64it/s]\n",
      "100%|██████████| 1189/1189 [00:00<00:00, 84184.87it/s]\n",
      "100%|██████████| 1189/1189 [00:00<00:00, 89162.33it/s]\n",
      "100%|██████████| 1230/1230 [00:00<00:00, 68066.89it/s]\n",
      "100%|██████████| 1230/1230 [00:00<00:00, 92557.93it/s]\n",
      "100%|██████████| 1230/1230 [00:00<00:00, 76516.83it/s]\n",
      "100%|██████████| 1230/1230 [00:00<00:00, 76871.41it/s]\n",
      "100%|██████████| 1230/1230 [00:00<00:00, 69574.17it/s]\n",
      "100%|██████████| 1230/1230 [00:00<00:00, 99868.25it/s]\n",
      "100%|██████████| 1230/1230 [00:00<00:00, 83872.44it/s]\n",
      "100%|██████████| 990/990 [00:00<00:00, 71444.61it/s]\n",
      "100%|██████████| 1230/1230 [00:00<00:00, 102783.14it/s]\n",
      "100%|██████████| 1230/1230 [00:00<00:00, 89502.16it/s]\n",
      "100%|██████████| 1230/1230 [00:00<00:00, 105740.92it/s]\n",
      "100%|██████████| 1230/1230 [00:00<00:00, 56911.76it/s]\n",
      "100%|██████████| 1230/1230 [00:00<00:00, 64875.87it/s]\n",
      "100%|██████████| 1230/1230 [00:00<00:00, 82212.42it/s]\n",
      "100%|██████████| 1230/1230 [00:00<00:00, 84471.20it/s]\n"
     ]
    }
   ],
   "source": [
    "for y in range(1997, 2020):\n",
    "    pbp_folder = f'playbyplay/{y}/'\n",
    "    if not os.path.exists(pbp_folder):\n",
    "        os.mkdir(pbp_folder)\n",
    "    games = pd.read_csv(f'../game-logs/leaguegamelog/log-{y}.csv', dtype=str)\n",
    "    gameids = games.GAME_ID.unique()\n",
    "    for i in tqdm(gameids):\n",
    "        get_game(y, i)"
   ]
  },
  {
   "cell_type": "code",
   "execution_count": null,
   "metadata": {},
   "outputs": [],
   "source": []
  }
 ],
 "metadata": {
  "kernelspec": {
   "display_name": "Python 3",
   "language": "python",
   "name": "python3"
  },
  "language_info": {
   "codemirror_mode": {
    "name": "ipython",
    "version": 3
   },
   "file_extension": ".py",
   "mimetype": "text/x-python",
   "name": "python",
   "nbconvert_exporter": "python",
   "pygments_lexer": "ipython3",
   "version": "3.7.2"
  }
 },
 "nbformat": 4,
 "nbformat_minor": 2
}
